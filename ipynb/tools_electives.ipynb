{
 "cells": [
  {
   "cell_type": "code",
   "execution_count": 1,
   "id": "8f64b8c4",
   "metadata": {},
   "outputs": [],
   "source": [
    "import pandas as pd\n",
    "import requests\n",
    "from bs4 import BeautifulSoup\n",
    "import json\n",
    "import re\n",
    "import time"
   ]
  },
  {
   "cell_type": "code",
   "execution_count": 2,
   "id": "5eefce01",
   "metadata": {},
   "outputs": [
    {
     "data": {
      "text/html": [
       "<div>\n",
       "<style scoped>\n",
       "    .dataframe tbody tr th:only-of-type {\n",
       "        vertical-align: middle;\n",
       "    }\n",
       "\n",
       "    .dataframe tbody tr th {\n",
       "        vertical-align: top;\n",
       "    }\n",
       "\n",
       "    .dataframe thead th {\n",
       "        text-align: right;\n",
       "    }\n",
       "</style>\n",
       "<table border=\"1\" class=\"dataframe\">\n",
       "  <thead>\n",
       "    <tr style=\"text-align: right;\">\n",
       "      <th></th>\n",
       "      <th>Course_Code</th>\n",
       "    </tr>\n",
       "  </thead>\n",
       "  <tbody>\n",
       "    <tr>\n",
       "      <th>0</th>\n",
       "      <td>ATSC_V 303</td>\n",
       "    </tr>\n",
       "    <tr>\n",
       "      <th>1</th>\n",
       "      <td>CHEM_V 211</td>\n",
       "    </tr>\n",
       "    <tr>\n",
       "      <th>2</th>\n",
       "      <td>CHEM_V 311</td>\n",
       "    </tr>\n",
       "  </tbody>\n",
       "</table>\n",
       "</div>"
      ],
      "text/plain": [
       "  Course_Code\n",
       "0  ATSC_V 303\n",
       "1  CHEM_V 211\n",
       "2  CHEM_V 311"
      ]
     },
     "execution_count": 2,
     "metadata": {},
     "output_type": "execute_result"
    }
   ],
   "source": [
    "tools = pd.read_csv('../csv/inputs/tools_electives.csv')\n",
    "tools.head(3)"
   ]
  },
  {
   "cell_type": "code",
   "execution_count": 3,
   "id": "0451537f",
   "metadata": {},
   "outputs": [],
   "source": [
    "def add_course_descriptions(df, base_url=\"https://vancouver.calendar.ubc.ca/course-descriptions/courses/\"):\n",
    "    \"\"\"\n",
    "    Add course descriptions to a DataFrame by scraping UBC course pages.\n",
    "    \n",
    "    Parameters:\n",
    "    df (pd.DataFrame): DataFrame with a 'Course Code' column\n",
    "    base_url (str): Base URL for UBC course pages\n",
    "    \n",
    "    Returns:\n",
    "    pd.DataFrame: Original DataFrame with added 'Description' column\n",
    "    \"\"\"\n",
    "    \n",
    "    def format_course_code(course_code):\n",
    "        \"\"\"Convert course code from 'HGSE_V 310' format to 'hgsev-310' format\"\"\"\n",
    "        # Remove any trailing letters (like 'E' in SOCI_V 495E)\n",
    "        course_code = re.sub(r'[A-Z]$', '', course_code)\n",
    "        # Convert to lowercase and replace '_V ' with '-'\n",
    "        formatted = course_code.lower().replace('_v ', 'v-')\n",
    "        return formatted\n",
    "    \n",
    "    # Create a copy of the dataframe\n",
    "    df_copy = df.copy()\n",
    "    df_copy['Description'] = ''\n",
    "    \n",
    "    for index, row in df_copy.iterrows():\n",
    "        try:\n",
    "            course_code = row['Course_Code']\n",
    "            formatted_code = format_course_code(course_code)\n",
    "            url = base_url + formatted_code\n",
    "            \n",
    "            response = requests.get(url)         \n",
    "            soup = BeautifulSoup(response.content, 'html.parser')\n",
    "            course_content = soup.find(class_='node node--type-course node--promoted node--view-mode-full')\n",
    "            \n",
    "            if course_content:\n",
    "                desc_element = course_content.find(class_='mt-0')\n",
    "                title_element = course_content.find('strong')\n",
    "                if desc_element:\n",
    "                    description = desc_element.text.strip()\n",
    "                    title = title_element.text.strip()\n",
    "                    df_copy.at[index, 'Description'] = description\n",
    "                    df_copy.at[index, 'Course Title'] = title\n",
    "                else:\n",
    "                    df_copy.at[index, 'Description'] = 'Description Not Available'\n",
    "                    df_copy.at[index, 'Course Title'] = 'Title Not Available'\n",
    "            else:\n",
    "                df_copy.at[index, 'Description'] = 'Description Not Available'\n",
    "                df_copy.at[index, 'Course Title'] = 'Title Not Available'\n",
    "                \n",
    "        except Exception as e:\n",
    "            print(f\"Error processing {course_code}: {e}\")\n",
    "            df_copy.at[index, 'Description'] = 'Description Not Available'\n",
    "            df_copy.at[index, 'Course Title'] = 'Title Not Available'\n",
    "            \n",
    "        time.sleep(0.5)\n",
    "    \n",
    "    return df_copy"
   ]
  },
  {
   "cell_type": "code",
   "execution_count": 4,
   "id": "2e186b58",
   "metadata": {},
   "outputs": [
    {
     "data": {
      "text/html": [
       "<div>\n",
       "<style scoped>\n",
       "    .dataframe tbody tr th:only-of-type {\n",
       "        vertical-align: middle;\n",
       "    }\n",
       "\n",
       "    .dataframe tbody tr th {\n",
       "        vertical-align: top;\n",
       "    }\n",
       "\n",
       "    .dataframe thead th {\n",
       "        text-align: right;\n",
       "    }\n",
       "</style>\n",
       "<table border=\"1\" class=\"dataframe\">\n",
       "  <thead>\n",
       "    <tr style=\"text-align: right;\">\n",
       "      <th></th>\n",
       "      <th>Course_Code</th>\n",
       "      <th>Description</th>\n",
       "      <th>Course Title</th>\n",
       "    </tr>\n",
       "  </thead>\n",
       "  <tbody>\n",
       "    <tr>\n",
       "      <th>0</th>\n",
       "      <td>ATSC_V 303</td>\n",
       "      <td>An introduction to instrumentation used in mon...</td>\n",
       "      <td>Methods in Atmospheric Science</td>\n",
       "    </tr>\n",
       "    <tr>\n",
       "      <th>1</th>\n",
       "      <td>CHEM_V 211</td>\n",
       "      <td>Quantitative chemical analysis; chemical and p...</td>\n",
       "      <td>Introduction to Chemical Analysis</td>\n",
       "    </tr>\n",
       "    <tr>\n",
       "      <th>2</th>\n",
       "      <td>CHEM_V 311</td>\n",
       "      <td>Theory, design, and application of instrumenta...</td>\n",
       "      <td>Instrumental Analytical Chemistry</td>\n",
       "    </tr>\n",
       "  </tbody>\n",
       "</table>\n",
       "</div>"
      ],
      "text/plain": [
       "  Course_Code                                        Description  \\\n",
       "0  ATSC_V 303  An introduction to instrumentation used in mon...   \n",
       "1  CHEM_V 211  Quantitative chemical analysis; chemical and p...   \n",
       "2  CHEM_V 311  Theory, design, and application of instrumenta...   \n",
       "\n",
       "                        Course Title  \n",
       "0     Methods in Atmospheric Science  \n",
       "1  Introduction to Chemical Analysis  \n",
       "2  Instrumental Analytical Chemistry  "
      ]
     },
     "execution_count": 4,
     "metadata": {},
     "output_type": "execute_result"
    }
   ],
   "source": [
    "tools_updated = add_course_descriptions(tools)\n",
    "tools_updated.head(3)"
   ]
  },
  {
   "cell_type": "code",
   "execution_count": 5,
   "id": "d72b9992",
   "metadata": {},
   "outputs": [
    {
     "data": {
      "text/html": [
       "<div>\n",
       "<style scoped>\n",
       "    .dataframe tbody tr th:only-of-type {\n",
       "        vertical-align: middle;\n",
       "    }\n",
       "\n",
       "    .dataframe tbody tr th {\n",
       "        vertical-align: top;\n",
       "    }\n",
       "\n",
       "    .dataframe thead th {\n",
       "        text-align: right;\n",
       "    }\n",
       "</style>\n",
       "<table border=\"1\" class=\"dataframe\">\n",
       "  <thead>\n",
       "    <tr style=\"text-align: right;\">\n",
       "      <th></th>\n",
       "      <th>Course_Code</th>\n",
       "      <th>Description</th>\n",
       "      <th>Course Title</th>\n",
       "    </tr>\n",
       "  </thead>\n",
       "  <tbody>\n",
       "    <tr>\n",
       "      <th>9</th>\n",
       "      <td>NRES_V 340</td>\n",
       "      <td>Introduction to principles, practice and conte...</td>\n",
       "      <td>Introduction to Geographic Information Systems...</td>\n",
       "    </tr>\n",
       "    <tr>\n",
       "      <th>2</th>\n",
       "      <td>CHEM_V 311</td>\n",
       "      <td>Theory, design, and application of instrumenta...</td>\n",
       "      <td>Instrumental Analytical Chemistry</td>\n",
       "    </tr>\n",
       "    <tr>\n",
       "      <th>7</th>\n",
       "      <td>GEOS_V 373</td>\n",
       "      <td>Aerial photography; measurement from aerial ph...</td>\n",
       "      <td>Remote Sensing: Monitoring Earth’s Surface fro...</td>\n",
       "    </tr>\n",
       "    <tr>\n",
       "      <th>0</th>\n",
       "      <td>ATSC_V 303</td>\n",
       "      <td>An introduction to instrumentation used in mon...</td>\n",
       "      <td>Methods in Atmospheric Science</td>\n",
       "    </tr>\n",
       "    <tr>\n",
       "      <th>5</th>\n",
       "      <td>GEOS_V 309</td>\n",
       "      <td>Field sampling, instrumentation, surveying, ma...</td>\n",
       "      <td>Geographical Sciences Field Course</td>\n",
       "    </tr>\n",
       "  </tbody>\n",
       "</table>\n",
       "</div>"
      ],
      "text/plain": [
       "  Course_Code                                        Description  \\\n",
       "9  NRES_V 340  Introduction to principles, practice and conte...   \n",
       "2  CHEM_V 311  Theory, design, and application of instrumenta...   \n",
       "7  GEOS_V 373  Aerial photography; measurement from aerial ph...   \n",
       "0  ATSC_V 303  An introduction to instrumentation used in mon...   \n",
       "5  GEOS_V 309  Field sampling, instrumentation, surveying, ma...   \n",
       "\n",
       "                                        Course Title  \n",
       "9  Introduction to Geographic Information Systems...  \n",
       "2                  Instrumental Analytical Chemistry  \n",
       "7  Remote Sensing: Monitoring Earth’s Surface fro...  \n",
       "0                     Methods in Atmospheric Science  \n",
       "5                 Geographical Sciences Field Course  "
      ]
     },
     "execution_count": 5,
     "metadata": {},
     "output_type": "execute_result"
    }
   ],
   "source": [
    "tools_updated.sample(5)"
   ]
  },
  {
   "cell_type": "code",
   "execution_count": 6,
   "id": "904f78c7",
   "metadata": {},
   "outputs": [
    {
     "data": {
      "text/plain": [
       "(0, 3)"
      ]
     },
     "execution_count": 6,
     "metadata": {},
     "output_type": "execute_result"
    }
   ],
   "source": [
    "tools_updated[tools_updated['Description'] == 'Description Not Available'].shape"
   ]
  },
  {
   "cell_type": "code",
   "execution_count": 7,
   "id": "7c645d10",
   "metadata": {},
   "outputs": [],
   "source": [
    "tools_updated.to_json('../json/tools_electives.json', orient='records', indent=2)"
   ]
  },
  {
   "cell_type": "code",
   "execution_count": null,
   "id": "c72137d2",
   "metadata": {},
   "outputs": [],
   "source": []
  }
 ],
 "metadata": {
  "kernelspec": {
   "display_name": "fos-data",
   "language": "python",
   "name": "python3"
  },
  "language_info": {
   "codemirror_mode": {
    "name": "ipython",
    "version": 3
   },
   "file_extension": ".py",
   "mimetype": "text/x-python",
   "name": "python",
   "nbconvert_exporter": "python",
   "pygments_lexer": "ipython3",
   "version": "3.13.2"
  }
 },
 "nbformat": 4,
 "nbformat_minor": 5
}
